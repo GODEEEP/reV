{
 "metadata": {
  "language_info": {
   "codemirror_mode": {
    "name": "ipython",
    "version": 3
   },
   "file_extension": ".py",
   "mimetype": "text/x-python",
   "name": "python",
   "nbconvert_exporter": "python",
   "pygments_lexer": "ipython3",
   "version": "3.7.5"
  },
  "orig_nbformat": 4,
  "kernelspec": {
   "name": "python3",
   "display_name": "Python 3.7.5 64-bit ('rev-dev': conda)"
  },
  "interpreter": {
   "hash": "00042bf9750b6ffb30d4088a6d823ac711a7e1a4c532fcac67d3c6ad4cbdcbe7"
  }
 },
 "nbformat": 4,
 "nbformat_minor": 2,
 "cells": [
  {
   "source": [
    "# reV Project Points\n",
    "\n",
    "[reV Gen](https://nrel.github.io/reV/reV/reV.generation.generation.html#reV.generation.generation.Gen)\n",
    "and [reV Econ](https://nrel.github.io/reV/reV/reV.econ.econ.html#reV.econ.econ.Econ)\n",
    "use [Project Points](https://nrel.github.io/reV/reV/reV.config.project_points.html#reV.config.project_points.ProjectPoints) to define which resource sites (`gids`) to run through\n",
    "[PySAM](https://pysam.readthedocs.io/en/latest/) and how.\n",
    "\n",
    "At its most basic Project Points consists of the resource `gid`s and the\n",
    "`SAM` configuration file associated it. This can be definited in a variety\n",
    "of ways:"
   ],
   "cell_type": "markdown",
   "metadata": {}
  },
  {
   "source": [
    "1) From a project points .csv and a single or dictionary of ``SAM``\n",
    "   configuration files:"
   ],
   "cell_type": "markdown",
   "metadata": {}
  },
  {
   "cell_type": "code",
   "execution_count": 1,
   "metadata": {},
   "outputs": [
    {
     "output_type": "display_data",
     "data": {
      "text/plain": "            gid   config\n0       2114919  onshore\n1       2114920  onshore\n2       2114921  onshore\n3       2114922  onshore\n4       2114923  onshore\n...         ...      ...\n124402  2239321  onshore\n124403  2239322  onshore\n124404  2239323  onshore\n124405  2239324  onshore\n124406  2239325  onshore\n\n[124407 rows x 2 columns]",
      "text/html": "<div>\n<style scoped>\n    .dataframe tbody tr th:only-of-type {\n        vertical-align: middle;\n    }\n\n    .dataframe tbody tr th {\n        vertical-align: top;\n    }\n\n    .dataframe thead th {\n        text-align: right;\n    }\n</style>\n<table border=\"1\" class=\"dataframe\">\n  <thead>\n    <tr style=\"text-align: right;\">\n      <th></th>\n      <th>gid</th>\n      <th>config</th>\n    </tr>\n  </thead>\n  <tbody>\n    <tr>\n      <th>0</th>\n      <td>2114919</td>\n      <td>onshore</td>\n    </tr>\n    <tr>\n      <th>1</th>\n      <td>2114920</td>\n      <td>onshore</td>\n    </tr>\n    <tr>\n      <th>2</th>\n      <td>2114921</td>\n      <td>onshore</td>\n    </tr>\n    <tr>\n      <th>3</th>\n      <td>2114922</td>\n      <td>onshore</td>\n    </tr>\n    <tr>\n      <th>4</th>\n      <td>2114923</td>\n      <td>onshore</td>\n    </tr>\n    <tr>\n      <th>...</th>\n      <td>...</td>\n      <td>...</td>\n    </tr>\n    <tr>\n      <th>124402</th>\n      <td>2239321</td>\n      <td>onshore</td>\n    </tr>\n    <tr>\n      <th>124403</th>\n      <td>2239322</td>\n      <td>onshore</td>\n    </tr>\n    <tr>\n      <th>124404</th>\n      <td>2239323</td>\n      <td>onshore</td>\n    </tr>\n    <tr>\n      <th>124405</th>\n      <td>2239324</td>\n      <td>onshore</td>\n    </tr>\n    <tr>\n      <th>124406</th>\n      <td>2239325</td>\n      <td>onshore</td>\n    </tr>\n  </tbody>\n</table>\n<p>124407 rows × 2 columns</p>\n</div>"
     },
     "metadata": {}
    }
   ],
   "source": [
    "import os\n",
    "from reV import TESTDATADIR\n",
    "from reV.config.project_points import ProjectPoints\n",
    "\n",
    "fpp = os.path.join(TESTDATADIR, 'project_points/pp_offshore.csv')\n",
    "sam_files = {'onshore': os.path.join(\n",
    "                TESTDATADIR, 'SAM/wind_gen_standard_losses_0.json'),\n",
    "                'offshore': os.path.join(\n",
    "                TESTDATADIR, 'SAM/wind_gen_standard_losses_1.json')}\n",
    "\n",
    "pp = ProjectPoints(fpp, sam_files)\n",
    "display(pp.df)"
   ]
  },
  {
   "source": [
    "2) From a list or slice of gids and a single ``SAM`` configuration file:"
   ],
   "cell_type": "markdown",
   "metadata": {}
  },
  {
   "cell_type": "code",
   "execution_count": 2,
   "metadata": {},
   "outputs": [
    {
     "output_type": "display_data",
     "data": {
      "text/plain": "   gid                                             config\n0    0  /Users/mrossol/Git_Repos/reV/tests/data/SAM/wi...\n1    5  /Users/mrossol/Git_Repos/reV/tests/data/SAM/wi...\n2    6  /Users/mrossol/Git_Repos/reV/tests/data/SAM/wi...\n3    9  /Users/mrossol/Git_Repos/reV/tests/data/SAM/wi...\n4   12  /Users/mrossol/Git_Repos/reV/tests/data/SAM/wi...",
      "text/html": "<div>\n<style scoped>\n    .dataframe tbody tr th:only-of-type {\n        vertical-align: middle;\n    }\n\n    .dataframe tbody tr th {\n        vertical-align: top;\n    }\n\n    .dataframe thead th {\n        text-align: right;\n    }\n</style>\n<table border=\"1\" class=\"dataframe\">\n  <thead>\n    <tr style=\"text-align: right;\">\n      <th></th>\n      <th>gid</th>\n      <th>config</th>\n    </tr>\n  </thead>\n  <tbody>\n    <tr>\n      <th>0</th>\n      <td>0</td>\n      <td>/Users/mrossol/Git_Repos/reV/tests/data/SAM/wi...</td>\n    </tr>\n    <tr>\n      <th>1</th>\n      <td>5</td>\n      <td>/Users/mrossol/Git_Repos/reV/tests/data/SAM/wi...</td>\n    </tr>\n    <tr>\n      <th>2</th>\n      <td>6</td>\n      <td>/Users/mrossol/Git_Repos/reV/tests/data/SAM/wi...</td>\n    </tr>\n    <tr>\n      <th>3</th>\n      <td>9</td>\n      <td>/Users/mrossol/Git_Repos/reV/tests/data/SAM/wi...</td>\n    </tr>\n    <tr>\n      <th>4</th>\n      <td>12</td>\n      <td>/Users/mrossol/Git_Repos/reV/tests/data/SAM/wi...</td>\n    </tr>\n  </tbody>\n</table>\n</div>"
     },
     "metadata": {}
    }
   ],
   "source": [
    "import os\n",
    "from reV import TESTDATADIR\n",
    "from reV.config.project_points import ProjectPoints\n",
    "\n",
    "sites = slice(0, 100)  # or\n",
    "sites = [0, 5, 6, 9, 12]\n",
    "\n",
    "sam_file = os.path.join(TESTDATADIR, 'SAM/wind_gen_standard_losses_0.json')\n",
    "\n",
    "pp = ProjectPoints(sites, sam_file)\n",
    "display(pp.df)"
   ]
  },
  {
   "source": [
    "3) From a pair or pairs of latitude and longitude coordinates and a single\n",
    "   ``SAM`` configuration file (NOTE: access to the resource file to be used\n",
    "   for ``reV Gen`` or ``reV Econ`` is needed to find the associated resource\n",
    "   gids):"
   ],
   "cell_type": "markdown",
   "metadata": {}
  },
  {
   "cell_type": "code",
   "execution_count": 4,
   "metadata": {},
   "outputs": [
    {
     "output_type": "stream",
     "name": "stderr",
     "text": [
      "WARNING: points are not in sequential order and will be sorted! The original order is being preserved under column \"points_order\"\n",
      "/Users/mrossol/Git_Repos/reV/reV/config/project_points.py:576: UserWarning: WARNING: points are not in sequential order and will be sorted! The original order is being preserved under column \"points_order\"\n",
      "  warn(msg)\n"
     ]
    },
    {
     "output_type": "display_data",
     "data": {
      "text/plain": "   gid                                             config  points_order  \\\n0   31  /Users/mrossol/Git_Repos/reV/tests/data/SAM/na...             4   \n1   41  /Users/mrossol/Git_Repos/reV/tests/data/SAM/na...             3   \n2   49  /Users/mrossol/Git_Repos/reV/tests/data/SAM/na...             0   \n3   67  /Users/mrossol/Git_Repos/reV/tests/data/SAM/na...             1   \n4   79  /Users/mrossol/Git_Repos/reV/tests/data/SAM/na...             2   \n\n   latitude  longitude  \n0     41.49     -71.78  \n1     40.97     -71.74  \n2     41.77     -71.74  \n3     41.73     -71.70  \n4     42.01     -71.70  ",
      "text/html": "<div>\n<style scoped>\n    .dataframe tbody tr th:only-of-type {\n        vertical-align: middle;\n    }\n\n    .dataframe tbody tr th {\n        vertical-align: top;\n    }\n\n    .dataframe thead th {\n        text-align: right;\n    }\n</style>\n<table border=\"1\" class=\"dataframe\">\n  <thead>\n    <tr style=\"text-align: right;\">\n      <th></th>\n      <th>gid</th>\n      <th>config</th>\n      <th>points_order</th>\n      <th>latitude</th>\n      <th>longitude</th>\n    </tr>\n  </thead>\n  <tbody>\n    <tr>\n      <th>0</th>\n      <td>31</td>\n      <td>/Users/mrossol/Git_Repos/reV/tests/data/SAM/na...</td>\n      <td>4</td>\n      <td>41.49</td>\n      <td>-71.78</td>\n    </tr>\n    <tr>\n      <th>1</th>\n      <td>41</td>\n      <td>/Users/mrossol/Git_Repos/reV/tests/data/SAM/na...</td>\n      <td>3</td>\n      <td>40.97</td>\n      <td>-71.74</td>\n    </tr>\n    <tr>\n      <th>2</th>\n      <td>49</td>\n      <td>/Users/mrossol/Git_Repos/reV/tests/data/SAM/na...</td>\n      <td>0</td>\n      <td>41.77</td>\n      <td>-71.74</td>\n    </tr>\n    <tr>\n      <th>3</th>\n      <td>67</td>\n      <td>/Users/mrossol/Git_Repos/reV/tests/data/SAM/na...</td>\n      <td>1</td>\n      <td>41.73</td>\n      <td>-71.70</td>\n    </tr>\n    <tr>\n      <th>4</th>\n      <td>79</td>\n      <td>/Users/mrossol/Git_Repos/reV/tests/data/SAM/na...</td>\n      <td>2</td>\n      <td>42.01</td>\n      <td>-71.70</td>\n    </tr>\n  </tbody>\n</table>\n</div>"
     },
     "metadata": {}
    }
   ],
   "source": [
    "import os\n",
    "import numpy as np\n",
    "from reV import TESTDATADIR\n",
    "from reV.config.project_points import ProjectPoints\n",
    "\n",
    "# A single (lat, lon) coordinate\n",
    "lat_lons = [41.77, -71.74]\n",
    "# Or a n x 2 list or array of (lat, lon) coordinates\n",
    "lat_lons = np.array([[ 41.77, -71.74],\n",
    "                    [ 41.73, -71.7 ],\n",
    "                    [ 42.01, -71.7 ],\n",
    "                    [ 40.97, -71.74],\n",
    "                    [ 41.49, -71.78]])\n",
    "\n",
    "res_file = os.path.join(TESTDATADIR, 'nsrdb/', 'ri_100_nsrdb_2012.h5')\n",
    "sam_file = os.path.join(TESTDATADIR, 'SAM/naris_pv_1axis_inv13.json')\n",
    "\n",
    "pp = ProjectPoints.lat_lon_coords(lat_lons, res_file, sam_file)\n",
    "display(pp.df)"
   ]
  },
  {
   "source": [
    "4) A geographic region or regions and a single ``SAM`` configuration file\n",
    "   (NOTE: access to the resource file to be used for ``reV Gen`` or\n",
    "   ``reV Econ`` is needed to find the associated resource gids):"
   ],
   "cell_type": "markdown",
   "metadata": {}
  },
  {
   "cell_type": "code",
   "execution_count": 5,
   "metadata": {},
   "outputs": [
    {
     "output_type": "stream",
     "name": "stderr",
     "text": [
      "WARNING: points are not in sequential order and will be sorted! The original order is being preserved under column \"points_order\"\n",
      "/Users/mrossol/Git_Repos/reV/reV/config/project_points.py:576: UserWarning: WARNING: points are not in sequential order and will be sorted! The original order is being preserved under column \"points_order\"\n",
      "  warn(msg)\n"
     ]
    },
    {
     "output_type": "display_data",
     "data": {
      "text/plain": "    gid                                             config  points_order  \\\n0    13  /Users/mrossol/Git_Repos/reV/tests/data/SAM/na...             0   \n1    14  /Users/mrossol/Git_Repos/reV/tests/data/SAM/na...             1   \n2    17  /Users/mrossol/Git_Repos/reV/tests/data/SAM/na...            23   \n3    18  /Users/mrossol/Git_Repos/reV/tests/data/SAM/na...             2   \n4    19  /Users/mrossol/Git_Repos/reV/tests/data/SAM/na...             3   \n5    25  /Users/mrossol/Git_Repos/reV/tests/data/SAM/na...            24   \n6    26  /Users/mrossol/Git_Repos/reV/tests/data/SAM/na...            25   \n7    29  /Users/mrossol/Git_Repos/reV/tests/data/SAM/na...             4   \n8    32  /Users/mrossol/Git_Repos/reV/tests/data/SAM/na...             5   \n9    33  /Users/mrossol/Git_Repos/reV/tests/data/SAM/na...             6   \n10   36  /Users/mrossol/Git_Repos/reV/tests/data/SAM/na...            26   \n11   38  /Users/mrossol/Git_Repos/reV/tests/data/SAM/na...             7   \n12   40  /Users/mrossol/Git_Repos/reV/tests/data/SAM/na...             8   \n13   44  /Users/mrossol/Git_Repos/reV/tests/data/SAM/na...            27   \n14   48  /Users/mrossol/Git_Repos/reV/tests/data/SAM/na...             9   \n15   49  /Users/mrossol/Git_Repos/reV/tests/data/SAM/na...            10   \n16   52  /Users/mrossol/Git_Repos/reV/tests/data/SAM/na...            11   \n17   53  /Users/mrossol/Git_Repos/reV/tests/data/SAM/na...            12   \n18   55  /Users/mrossol/Git_Repos/reV/tests/data/SAM/na...            13   \n19   59  /Users/mrossol/Git_Repos/reV/tests/data/SAM/na...            28   \n20   67  /Users/mrossol/Git_Repos/reV/tests/data/SAM/na...            14   \n21   68  /Users/mrossol/Git_Repos/reV/tests/data/SAM/na...            29   \n22   69  /Users/mrossol/Git_Repos/reV/tests/data/SAM/na...            15   \n23   71  /Users/mrossol/Git_Repos/reV/tests/data/SAM/na...            16   \n24   77  /Users/mrossol/Git_Repos/reV/tests/data/SAM/na...            17   \n25   78  /Users/mrossol/Git_Repos/reV/tests/data/SAM/na...            18   \n26   82  /Users/mrossol/Git_Repos/reV/tests/data/SAM/na...            19   \n27   83  /Users/mrossol/Git_Repos/reV/tests/data/SAM/na...            20   \n28   87  /Users/mrossol/Git_Repos/reV/tests/data/SAM/na...            30   \n29   90  /Users/mrossol/Git_Repos/reV/tests/data/SAM/na...            31   \n30   94  /Users/mrossol/Git_Repos/reV/tests/data/SAM/na...            21   \n31   96  /Users/mrossol/Git_Repos/reV/tests/data/SAM/na...            22   \n32   98  /Users/mrossol/Git_Repos/reV/tests/data/SAM/na...            32   \n\n        county  \n0   Providence  \n1   Providence  \n2         Kent  \n3   Providence  \n4   Providence  \n5         Kent  \n6         Kent  \n7   Providence  \n8   Providence  \n9   Providence  \n10        Kent  \n11  Providence  \n12  Providence  \n13        Kent  \n14  Providence  \n15  Providence  \n16  Providence  \n17  Providence  \n18  Providence  \n19        Kent  \n20  Providence  \n21        Kent  \n22  Providence  \n23  Providence  \n24  Providence  \n25  Providence  \n26  Providence  \n27  Providence  \n28        Kent  \n29        Kent  \n30  Providence  \n31  Providence  \n32        Kent  ",
      "text/html": "<div>\n<style scoped>\n    .dataframe tbody tr th:only-of-type {\n        vertical-align: middle;\n    }\n\n    .dataframe tbody tr th {\n        vertical-align: top;\n    }\n\n    .dataframe thead th {\n        text-align: right;\n    }\n</style>\n<table border=\"1\" class=\"dataframe\">\n  <thead>\n    <tr style=\"text-align: right;\">\n      <th></th>\n      <th>gid</th>\n      <th>config</th>\n      <th>points_order</th>\n      <th>county</th>\n    </tr>\n  </thead>\n  <tbody>\n    <tr>\n      <th>0</th>\n      <td>13</td>\n      <td>/Users/mrossol/Git_Repos/reV/tests/data/SAM/na...</td>\n      <td>0</td>\n      <td>Providence</td>\n    </tr>\n    <tr>\n      <th>1</th>\n      <td>14</td>\n      <td>/Users/mrossol/Git_Repos/reV/tests/data/SAM/na...</td>\n      <td>1</td>\n      <td>Providence</td>\n    </tr>\n    <tr>\n      <th>2</th>\n      <td>17</td>\n      <td>/Users/mrossol/Git_Repos/reV/tests/data/SAM/na...</td>\n      <td>23</td>\n      <td>Kent</td>\n    </tr>\n    <tr>\n      <th>3</th>\n      <td>18</td>\n      <td>/Users/mrossol/Git_Repos/reV/tests/data/SAM/na...</td>\n      <td>2</td>\n      <td>Providence</td>\n    </tr>\n    <tr>\n      <th>4</th>\n      <td>19</td>\n      <td>/Users/mrossol/Git_Repos/reV/tests/data/SAM/na...</td>\n      <td>3</td>\n      <td>Providence</td>\n    </tr>\n    <tr>\n      <th>5</th>\n      <td>25</td>\n      <td>/Users/mrossol/Git_Repos/reV/tests/data/SAM/na...</td>\n      <td>24</td>\n      <td>Kent</td>\n    </tr>\n    <tr>\n      <th>6</th>\n      <td>26</td>\n      <td>/Users/mrossol/Git_Repos/reV/tests/data/SAM/na...</td>\n      <td>25</td>\n      <td>Kent</td>\n    </tr>\n    <tr>\n      <th>7</th>\n      <td>29</td>\n      <td>/Users/mrossol/Git_Repos/reV/tests/data/SAM/na...</td>\n      <td>4</td>\n      <td>Providence</td>\n    </tr>\n    <tr>\n      <th>8</th>\n      <td>32</td>\n      <td>/Users/mrossol/Git_Repos/reV/tests/data/SAM/na...</td>\n      <td>5</td>\n      <td>Providence</td>\n    </tr>\n    <tr>\n      <th>9</th>\n      <td>33</td>\n      <td>/Users/mrossol/Git_Repos/reV/tests/data/SAM/na...</td>\n      <td>6</td>\n      <td>Providence</td>\n    </tr>\n    <tr>\n      <th>10</th>\n      <td>36</td>\n      <td>/Users/mrossol/Git_Repos/reV/tests/data/SAM/na...</td>\n      <td>26</td>\n      <td>Kent</td>\n    </tr>\n    <tr>\n      <th>11</th>\n      <td>38</td>\n      <td>/Users/mrossol/Git_Repos/reV/tests/data/SAM/na...</td>\n      <td>7</td>\n      <td>Providence</td>\n    </tr>\n    <tr>\n      <th>12</th>\n      <td>40</td>\n      <td>/Users/mrossol/Git_Repos/reV/tests/data/SAM/na...</td>\n      <td>8</td>\n      <td>Providence</td>\n    </tr>\n    <tr>\n      <th>13</th>\n      <td>44</td>\n      <td>/Users/mrossol/Git_Repos/reV/tests/data/SAM/na...</td>\n      <td>27</td>\n      <td>Kent</td>\n    </tr>\n    <tr>\n      <th>14</th>\n      <td>48</td>\n      <td>/Users/mrossol/Git_Repos/reV/tests/data/SAM/na...</td>\n      <td>9</td>\n      <td>Providence</td>\n    </tr>\n    <tr>\n      <th>15</th>\n      <td>49</td>\n      <td>/Users/mrossol/Git_Repos/reV/tests/data/SAM/na...</td>\n      <td>10</td>\n      <td>Providence</td>\n    </tr>\n    <tr>\n      <th>16</th>\n      <td>52</td>\n      <td>/Users/mrossol/Git_Repos/reV/tests/data/SAM/na...</td>\n      <td>11</td>\n      <td>Providence</td>\n    </tr>\n    <tr>\n      <th>17</th>\n      <td>53</td>\n      <td>/Users/mrossol/Git_Repos/reV/tests/data/SAM/na...</td>\n      <td>12</td>\n      <td>Providence</td>\n    </tr>\n    <tr>\n      <th>18</th>\n      <td>55</td>\n      <td>/Users/mrossol/Git_Repos/reV/tests/data/SAM/na...</td>\n      <td>13</td>\n      <td>Providence</td>\n    </tr>\n    <tr>\n      <th>19</th>\n      <td>59</td>\n      <td>/Users/mrossol/Git_Repos/reV/tests/data/SAM/na...</td>\n      <td>28</td>\n      <td>Kent</td>\n    </tr>\n    <tr>\n      <th>20</th>\n      <td>67</td>\n      <td>/Users/mrossol/Git_Repos/reV/tests/data/SAM/na...</td>\n      <td>14</td>\n      <td>Providence</td>\n    </tr>\n    <tr>\n      <th>21</th>\n      <td>68</td>\n      <td>/Users/mrossol/Git_Repos/reV/tests/data/SAM/na...</td>\n      <td>29</td>\n      <td>Kent</td>\n    </tr>\n    <tr>\n      <th>22</th>\n      <td>69</td>\n      <td>/Users/mrossol/Git_Repos/reV/tests/data/SAM/na...</td>\n      <td>15</td>\n      <td>Providence</td>\n    </tr>\n    <tr>\n      <th>23</th>\n      <td>71</td>\n      <td>/Users/mrossol/Git_Repos/reV/tests/data/SAM/na...</td>\n      <td>16</td>\n      <td>Providence</td>\n    </tr>\n    <tr>\n      <th>24</th>\n      <td>77</td>\n      <td>/Users/mrossol/Git_Repos/reV/tests/data/SAM/na...</td>\n      <td>17</td>\n      <td>Providence</td>\n    </tr>\n    <tr>\n      <th>25</th>\n      <td>78</td>\n      <td>/Users/mrossol/Git_Repos/reV/tests/data/SAM/na...</td>\n      <td>18</td>\n      <td>Providence</td>\n    </tr>\n    <tr>\n      <th>26</th>\n      <td>82</td>\n      <td>/Users/mrossol/Git_Repos/reV/tests/data/SAM/na...</td>\n      <td>19</td>\n      <td>Providence</td>\n    </tr>\n    <tr>\n      <th>27</th>\n      <td>83</td>\n      <td>/Users/mrossol/Git_Repos/reV/tests/data/SAM/na...</td>\n      <td>20</td>\n      <td>Providence</td>\n    </tr>\n    <tr>\n      <th>28</th>\n      <td>87</td>\n      <td>/Users/mrossol/Git_Repos/reV/tests/data/SAM/na...</td>\n      <td>30</td>\n      <td>Kent</td>\n    </tr>\n    <tr>\n      <th>29</th>\n      <td>90</td>\n      <td>/Users/mrossol/Git_Repos/reV/tests/data/SAM/na...</td>\n      <td>31</td>\n      <td>Kent</td>\n    </tr>\n    <tr>\n      <th>30</th>\n      <td>94</td>\n      <td>/Users/mrossol/Git_Repos/reV/tests/data/SAM/na...</td>\n      <td>21</td>\n      <td>Providence</td>\n    </tr>\n    <tr>\n      <th>31</th>\n      <td>96</td>\n      <td>/Users/mrossol/Git_Repos/reV/tests/data/SAM/na...</td>\n      <td>22</td>\n      <td>Providence</td>\n    </tr>\n    <tr>\n      <th>32</th>\n      <td>98</td>\n      <td>/Users/mrossol/Git_Repos/reV/tests/data/SAM/na...</td>\n      <td>32</td>\n      <td>Kent</td>\n    </tr>\n  </tbody>\n</table>\n</div>"
     },
     "metadata": {}
    }
   ],
   "source": [
    "import os\n",
    "from reV import TESTDATADIR\n",
    "from reV.config.project_points import ProjectPoints\n",
    "\n",
    "# Of form {region : region_column}\n",
    "regions = {'Rhode Island': 'state'} \n",
    "# or\n",
    "regions = {'Providence': 'county', 'Kent': 'county'}\n",
    "\n",
    "res_file = os.path.join(TESTDATADIR, 'nsrdb/', 'ri_100_nsrdb_2012.h5')\n",
    "sam_file = os.path.join(TESTDATADIR, 'SAM/naris_pv_1axis_inv13.json')\n",
    "\n",
    "pp = ProjectPoints.regions(regions, res_file, sam_file)\n",
    "display(pp.df)"
   ]
  },
  {
   "source": [
    "## Command Line Interface (CLI)\n",
    "\n",
    "Options 3 and 4 above can be run from the Command Line using the\n",
    "[reV-project-points](https://nrel.github.io/reV/reV/reV.config.cli_project_points.html#rev-project-points)\n",
    "CLI\n",
    "\n",
    "```bash\n",
    "out_file='./project_points.csv'\n",
    "\n",
    "TESTDATADIR=.../tests/data\n",
    "res_file=${TESTDATADIR}/nsrdb/ri_100_nsrdb_2012.h5\n",
    "sam_file=${TESTDATADIR}/SAM/naris_pv_1axis_inv13.json\n",
    "\n",
    "reV-project-points --fpath=${out_file} --res_file=${res_file} --sam_file=${sam_file} from-lat-lons --lat_lon_coords 41.77 -71.74\n",
    "```\n",
    "\n",
    "or\n",
    "\n",
    "```bash\n",
    "out_file='./project_points.csv'\n",
    "\n",
    "TESTDATADIR=.../tests/data\n",
    "res_file=${TESTDATADIR}/nsrdb/ri_100_nsrdb_2012.h5\n",
    "sam_file=${TESTDATADIR}/SAM/naris_pv_1axis_inv13.json\n",
    "\n",
    "reV-project-points --fpath=${out_file} --res_file=${res_file} --sam_file=${sam_file} from-regions --region=\"Rhode Island\" --region_col=state\n",
    "```"
   ],
   "cell_type": "markdown",
   "metadata": {}
  },
  {
   "cell_type": "code",
   "execution_count": 36,
   "metadata": {},
   "outputs": [
    {
     "output_type": "stream",
     "name": "stdout",
     "text": [
      "Usage: reV-project-points [OPTIONS] COMMAND [ARGS]...\n\n  reV ProjectPoints generator\n\nOptions:\n  --version             Show the version and exit.\n  -f, --fpath PATH      .csv file path to save project points to (required)\n                        [required]\n\n  -rf, --res_file TEXT  Filepath to single resource file, multi-h5 directory,\n                        or /h5_dir/prefix*suffix (required)  [required]\n\n  -sf, --sam_file PATH  SAM config file (required)  [required]\n  -v, --verbose         Flag to turn on debug logging. Default is not verbose.\n  --help                Show this message and exit.\n\nCommands:\n  from-lat-lons  Convert latitude and longitude coordinates to ProjectPoints\n  from-regions   Extract ProjectPoints for given geographic regions\n"
     ]
    }
   ],
   "source": [
    "!reV-project-points --help"
   ]
  }
 ]
}
